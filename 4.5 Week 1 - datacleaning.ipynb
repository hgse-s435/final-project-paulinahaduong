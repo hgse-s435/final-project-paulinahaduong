{
 "cells": [
  {
   "cell_type": "markdown",
   "metadata": {},
   "source": [
    "# Getting Unstuck Scratch projects\n",
    "\n",
    "## Research Q's\n",
    "* What did people learn?"
   ]
  },
  {
   "cell_type": "code",
   "execution_count": 2,
   "metadata": {},
   "outputs": [
    {
     "name": "stdout",
     "output_type": "stream",
     "text": [
      "['./studios/studio19.csv', './studios/studio18.csv', './studios/studio20.csv', './studios/studio21.csv', './studios/studio8.csv', './studios/studio9.csv', './studios/studio7.csv', './studios/studio6.csv', './studios/studio4.csv', './studios/studio5.csv', './studios/studio1.csv', './studios/studio2.csv', './studios/studio3.csv', './studios/studio10.csv', './studios/studio11.csv', './studios/studio13.csv', './studios/studio12.csv', './studios/studio16.csv', './studios/studio17.csv', './studios/studio15.csv', './studios/studio14.csv']\n"
     ]
    }
   ],
   "source": [
    "import os\n",
    "\n",
    "# using glob, find all the csv files in the \"Studios\" folder\n",
    "import glob\n",
    "\n",
    "files = glob.glob('./studios/*.csv')\n",
    "print(files)"
   ]
  },
  {
   "cell_type": "code",
   "execution_count": 48,
   "metadata": {},
   "outputs": [],
   "source": [
    "# put all CSV files into a data frame\n",
    "\n",
    "import pandas as pd \n",
    "import numpy as np\n",
    "\n",
    "dfs = []\n",
    "\n",
    "for i,filename in enumerate(files):\n",
    "    df = pd.read_csv(filename, index_col=None, header=0)\n",
    "    df.insert(0,'studio',i)\n",
    "    dfs.append(df)\n",
    "    \n",
    "frame = pd.concat(dfs, axis=0, ignore_index=True, sort=False)\n",
    "    \n",
    "    \n"
   ]
  },
  {
   "cell_type": "code",
   "execution_count": 49,
   "metadata": {},
   "outputs": [
    {
     "name": "stdout",
     "output_type": "stream",
     "text": [
      "<class 'pandas.core.frame.DataFrame'>\n",
      "RangeIndex: 3784 entries, 0 to 3783\n",
      "Data columns (total 24 columns):\n",
      "studio                 3784 non-null int64\n",
      "id                     3784 non-null int64\n",
      "title                  3784 non-null object\n",
      "description            2965 non-null object\n",
      "instructions           3322 non-null object\n",
      "author/id              3784 non-null int64\n",
      "image                  3784 non-null object\n",
      "history/created        3784 non-null object\n",
      "history/modified       3784 non-null object\n",
      "history/shared         3784 non-null object\n",
      "stats/views            3784 non-null int64\n",
      "stats/loves            3784 non-null int64\n",
      "stats/favorites        3784 non-null int64\n",
      "stats/comments         3784 non-null int64\n",
      "stats/remixes          3784 non-null int64\n",
      "remix/parent           316 non-null float64\n",
      "remix/root             316 non-null float64\n",
      "Unnamed: 16            2 non-null object\n",
      "description (full)     2 non-null float64\n",
      "instruction (full)     2 non-null float64\n",
      "description (blank)    2 non-null float64\n",
      "instruction (blank)    2 non-null float64\n",
      "description.1          1 non-null float64\n",
      "instructions.1         0 non-null float64\n",
      "dtypes: float64(8), int64(8), object(8)\n",
      "memory usage: 709.6+ KB\n"
     ]
    }
   ],
   "source": [
    "# check what the dataframe looks like\n",
    "\n",
    "frame.head()\n",
    "\n",
    "frame.info()"
   ]
  },
  {
   "cell_type": "code",
   "execution_count": 50,
   "metadata": {},
   "outputs": [
    {
     "name": "stdout",
     "output_type": "stream",
     "text": [
      "<class 'pandas.core.frame.DataFrame'>\n",
      "RangeIndex: 3784 entries, 0 to 3783\n",
      "Data columns (total 16 columns):\n",
      "studio              3784 non-null int64\n",
      "id                  3784 non-null int64\n",
      "title               3784 non-null object\n",
      "description         2965 non-null object\n",
      "instructions        3322 non-null object\n",
      "author/id           3784 non-null int64\n",
      "image               3784 non-null object\n",
      "history/created     3784 non-null object\n",
      "history/modified    3784 non-null object\n",
      "history/shared      3784 non-null object\n",
      "stats/views         3784 non-null int64\n",
      "stats/loves         3784 non-null int64\n",
      "stats/favorites     3784 non-null int64\n",
      "remix/parent        316 non-null float64\n",
      "remix/root          316 non-null float64\n",
      "Unnamed: 16         2 non-null object\n",
      "dtypes: float64(2), int64(6), object(8)\n",
      "memory usage: 473.1+ KB\n"
     ]
    }
   ],
   "source": [
    "# df has columns that need to be deleted.\n",
    "\n",
    "frame = frame.drop(columns = ['stats/comments','stats/remixes',\n",
    "                   'description (full)','instruction (full)',\n",
    "                 'description (blank)','instruction (blank)',\n",
    "                'description.1','instructions.1'])\n",
    "\n",
    "frame.info()\n"
   ]
  },
  {
   "cell_type": "code",
   "execution_count": 54,
   "metadata": {},
   "outputs": [],
   "source": [
    "frame.head()\n",
    "\n",
    "dfToList = frame['description'].tolist()\n",
    "\n",
    "# print(dfToList)"
   ]
  },
  {
   "cell_type": "code",
   "execution_count": 55,
   "metadata": {},
   "outputs": [
    {
     "ename": "NameError",
     "evalue": "name 'list1' is not defined",
     "output_type": "error",
     "traceback": [
      "\u001b[0;31m---------------------------------------------------------------------------\u001b[0m",
      "\u001b[0;31mNameError\u001b[0m                                 Traceback (most recent call last)",
      "\u001b[0;32m<ipython-input-55-08994752edbe>\u001b[0m in \u001b[0;36m<module>\u001b[0;34m\u001b[0m\n\u001b[1;32m      1\u001b[0m \u001b[0;31m# Exploratory - avg list of\u001b[0m\u001b[0;34m\u001b[0m\u001b[0;34m\u001b[0m\u001b[0;34m\u001b[0m\u001b[0m\n\u001b[1;32m      2\u001b[0m \u001b[0;34m\u001b[0m\u001b[0m\n\u001b[0;32m----> 3\u001b[0;31m \u001b[0;32mfor\u001b[0m \u001b[0mitem\u001b[0m \u001b[0;32min\u001b[0m \u001b[0mlist1\u001b[0m\u001b[0;34m:\u001b[0m\u001b[0;34m\u001b[0m\u001b[0;34m\u001b[0m\u001b[0m\n\u001b[0m\u001b[1;32m      4\u001b[0m     \u001b[0mstring_size\u001b[0m \u001b[0;34m=\u001b[0m \u001b[0mlen\u001b[0m\u001b[0;34m(\u001b[0m\u001b[0mitem\u001b[0m\u001b[0;34m)\u001b[0m\u001b[0;34m\u001b[0m\u001b[0;34m\u001b[0m\u001b[0m\n\u001b[1;32m      5\u001b[0m     \u001b[0mall_lengths\u001b[0m\u001b[0;34m.\u001b[0m\u001b[0mappend\u001b[0m\u001b[0;34m(\u001b[0m\u001b[0mstring_size\u001b[0m\u001b[0;34m)\u001b[0m\u001b[0;34m\u001b[0m\u001b[0;34m\u001b[0m\u001b[0m\n",
      "\u001b[0;31mNameError\u001b[0m: name 'list1' is not defined"
     ]
    }
   ],
   "source": [
    "# Exploratory - avg list of \n",
    "\n",
    "for item in list1:\n",
    "    string_size = len(item)\n",
    "    all_lengths.append(string_size)\n",
    "    total_size = sum(all_lengths)\n",
    "ave_size = float(total_size) / float(num_of_strings)"
   ]
  },
  {
   "cell_type": "markdown",
   "metadata": {},
   "source": [
    "# Research Q's"
   ]
  },
  {
   "cell_type": "code",
   "execution_count": null,
   "metadata": {},
   "outputs": [],
   "source": []
  }
 ],
 "metadata": {
  "kernelspec": {
   "display_name": "Python 3",
   "language": "python",
   "name": "python3"
  },
  "language_info": {
   "codemirror_mode": {
    "name": "ipython",
    "version": 3
   },
   "file_extension": ".py",
   "mimetype": "text/x-python",
   "name": "python",
   "nbconvert_exporter": "python",
   "pygments_lexer": "ipython3",
   "version": "3.7.1"
  }
 },
 "nbformat": 4,
 "nbformat_minor": 2
}
